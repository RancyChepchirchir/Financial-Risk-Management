{
 "cells": [
  {
   "cell_type": "code",
   "execution_count": 1,
   "metadata": {},
   "outputs": [],
   "source": [
    "import math\n",
    "import numpy as np"
   ]
  },
  {
   "cell_type": "code",
   "execution_count": 2,
   "metadata": {},
   "outputs": [],
   "source": [
    "def european_call_option(k, i):\n",
    "    if(callstore[k][no_of_divisions+i] != -1.0): \n",
    "        return callstore[k][no_of_divisions+i]\n",
    "    if (k == no_of_divisions):\n",
    "        callstore[k][no_of_divisions+i] = max(0.0, (initial_stock_price*pow(up_factor, i)) - strike_price)\n",
    "        return callstore[k][no_of_divisions+i]\n",
    "    else:\n",
    "        callstore[k][no_of_divisions+i] = (uptick_prob*european_call_option(k+1, i+1)\n",
    "                                           + (1-uptick_prob)*european_call_option(k+1, i-1))/R\n",
    "        return callstore[k][no_of_divisions+i]\n",
    "\n",
    "def european_put_option(k, i):\n",
    "    if(putstore[k][no_of_divisions+i] != -1.0): \n",
    "        return putstore[k][no_of_divisions+i]\n",
    "    \n",
    "    if (k == no_of_divisions):\n",
    "        putstore[k][no_of_divisions+i] = max(0.0, strike_price - (initial_stock_price*pow(up_factor, (i))))\n",
    "        return putstore[k][no_of_divisions+i]\n",
    "    else:\n",
    "        putstore[k][no_of_divisions+i] = (uptick_prob*european_put_option(k+1, i+1) \n",
    "                                         + (1-uptick_prob)*european_put_option(k+1, i-1))/R\n",
    "        return putstore[k][no_of_divisions+i]"
   ]
  },
  {
   "cell_type": "code",
   "execution_count": 3,
   "metadata": {},
   "outputs": [
    {
     "name": "stdout",
     "output_type": "stream",
     "text": [
      "ABC_Call:  5.858589086274135\n",
      "ABC_Put:   4.605293796077261\n",
      "DEF_Call:  5.920232559424707\n",
      "DEF_Put:   6.825289624128795\n",
      "V_P:       113765.38602832238\n"
     ]
    }
   ],
   "source": [
    "no_of_divisions = 1000\n",
    "# value of option on ABC\n",
    "risk_free_rate = 0.01\n",
    "strike_price = 100\n",
    "initial_stock_price = 101.17\n",
    "expiration_time = 0.08333\n",
    "volatility = 0.45\n",
    "\n",
    "callstore = np.zeros((2*no_of_divisions+2, 2*no_of_divisions+2), dtype=np.double)\n",
    "putstore = np.zeros((2*no_of_divisions+2, 2*no_of_divisions+2), dtype=np.double)\n",
    "for i in range(2*no_of_divisions+2):\n",
    "    for j in range(2*no_of_divisions+2):\n",
    "        callstore[i][j] = -1.0\n",
    "        putstore[i][j] = -1.0\n",
    "        \n",
    "up_factor = math.exp(volatility*math.sqrt(expiration_time/(no_of_divisions)))\n",
    "R = math.exp(risk_free_rate*expiration_time/(no_of_divisions))\n",
    "uptick_prob = (R - (1/up_factor))/(up_factor-(1/up_factor))\n",
    "\n",
    "ABC_Call = european_call_option(0, 0)\n",
    "ABC_Put = european_put_option(0, 0)\n",
    "print(\"ABC_Call: \", ABC_Call)\n",
    "print(\"ABC_Put:  \", ABC_Put)\n",
    "\n",
    "# value of option on DEF\n",
    "risk_free_rate = 0.01\n",
    "strike_price = 150\n",
    "initial_stock_price = 148.97\n",
    "expiration_time = 0.08333\n",
    "volatility = 0.37\n",
    "\n",
    "callstore = np.zeros((2*no_of_divisions+2, 2*no_of_divisions+2), dtype=np.double)\n",
    "putstore = np.zeros((2*no_of_divisions+2, 2*no_of_divisions+2), dtype=np.double)\n",
    "for i in range(2*no_of_divisions+2):\n",
    "    for j in range(2*no_of_divisions+2):\n",
    "        callstore[i][j] = -1.0\n",
    "        putstore[i][j] = -1.0\n",
    "\n",
    "up_factor = math.exp(volatility*math.sqrt(expiration_time/(no_of_divisions)))\n",
    "R = math.exp(risk_free_rate*expiration_time/(no_of_divisions))\n",
    "uptick_prob = (R - (1/up_factor))/(up_factor-(1/up_factor))\n",
    "\n",
    "DEF_Call = european_call_option(0, 0)\n",
    "DEF_Put = european_put_option(0, 0)\n",
    "print(\"DEF_Call: \", DEF_Call)\n",
    "print(\"DEF_Put:  \", DEF_Put)\n",
    "\n",
    "value_of_portfolio = 60*100*(ABC_Call + ABC_Put) + 40*100*(DEF_Call + DEF_Put)\n",
    "print(\"V_P:      \", value_of_portfolio)"
   ]
  },
  {
   "cell_type": "markdown",
   "metadata": {},
   "source": [
    "# Question 1 Expected Shortfall with Normal Dist."
   ]
  },
  {
   "cell_type": "code",
   "execution_count": 4,
   "metadata": {},
   "outputs": [],
   "source": [
    "no_of_trails = 1000\n",
    "no_of_divisions = 100\n",
    "u_ABC = 0.0005\n",
    "u_DEF = 0.0004\n",
    "sd_ABC = 0.028\n",
    "sd_DEF = 0.023\n",
    "corr = 0.4\n",
    "\n",
    "P_L = []\n",
    "for i in range(no_of_trails):\n",
    "    mean = [u_ABC, \n",
    "            u_DEF]\n",
    "    cov = [[sd_ABC*sd_ABC,      sd_ABC*sd_DEF*corr],\n",
    "           [sd_ABC*sd_DEF*corr, sd_DEF*sd_DEF]      ]\n",
    "    \n",
    "    log_S_ABC_percent_change, log_S_DEF_percent_change = np.random.multivariate_normal(mean, cov)\n",
    "    \n",
    "    S_ABC = 101.17 * math.exp(log_S_ABC_percent_change)\n",
    "    S_DEF = 148.97 * math.exp(log_S_DEF_percent_change)\n",
    "    \n",
    "    risk_free_rate = 0.01\n",
    "    strike_price = 100\n",
    "    initial_stock_price = S_ABC        \n",
    "    expiration_time = 0.08333 - (1/252) \n",
    "    volatility = 0.45\n",
    "\n",
    "    callstore = np.zeros((2*no_of_divisions+2, 2*no_of_divisions+2), dtype=np.double)\n",
    "    putstore = np.zeros((2*no_of_divisions+2, 2*no_of_divisions+2), dtype=np.double)\n",
    "    for i in range(2*no_of_divisions+2):\n",
    "        for j in range(2*no_of_divisions+2):\n",
    "            callstore[i][j] = -1.0\n",
    "            putstore[i][j] = -1.0       \n",
    "\n",
    "    up_factor = math.exp(volatility*math.sqrt(expiration_time/(no_of_divisions)))\n",
    "    R = math.exp(risk_free_rate*expiration_time/(no_of_divisions))\n",
    "    uptick_prob = (R - (1/up_factor))/(up_factor-(1/up_factor))\n",
    "    ABC_Call = european_call_option(0, 0)\n",
    "    ABC_Put = european_put_option(0, 0)\n",
    "    \n",
    "\n",
    "    risk_free_rate = 0.01\n",
    "    strike_price = 150\n",
    "    initial_stock_price = S_DEF\n",
    "    expiration_time = 0.08333 - (1/252) \n",
    "    volatility = 0.37\n",
    "\n",
    "    callstore = np.zeros((2*no_of_divisions+2, 2*no_of_divisions+2), dtype=np.double)\n",
    "    putstore = np.zeros((2*no_of_divisions+2, 2*no_of_divisions+2), dtype=np.double)\n",
    "    for i in range(2*no_of_divisions+2):\n",
    "        for j in range(2*no_of_divisions+2):\n",
    "            callstore[i][j] = -1.0\n",
    "            putstore[i][j] = -1.0\n",
    "\n",
    "    up_factor = math.exp(volatility*math.sqrt(expiration_time/(no_of_divisions)))\n",
    "    R = math.exp(risk_free_rate*expiration_time/(no_of_divisions))\n",
    "    uptick_prob = (R - (1/up_factor))/(up_factor-(1/up_factor))\n",
    "\n",
    "    DEF_Call = european_call_option(0, 0)\n",
    "    DEF_Put = european_put_option(0, 0)\n",
    "\n",
    "    \n",
    "    value_of_portfolio = 60*100*(ABC_Call + ABC_Put) + 40*100*(DEF_Call + DEF_Put)\n",
    "    P_L.append(-(value_of_portfolio - 113765.38602832238))"
   ]
  },
  {
   "cell_type": "code",
   "execution_count": 5,
   "metadata": {},
   "outputs": [
    {
     "data": {
      "text/plain": [
       "8524.251724317932"
      ]
     },
     "execution_count": 5,
     "metadata": {},
     "output_type": "execute_result"
    }
   ],
   "source": [
    "five_percent_VaR = -np.quantile(P_L, 0.05)\n",
    "five_percent_VaR"
   ]
  },
  {
   "cell_type": "code",
   "execution_count": 13,
   "metadata": {},
   "outputs": [
    {
     "data": {
      "image/png": "[encoded data removed]",
      "text/plain": [
       "<Figure size 432x288 with 1 Axes>"
      ]
     },
     "metadata": {},
     "output_type": "display_data"
    }
   ],
   "source": [
    "import matplotlib.pyplot as plt\n",
    "import seaborn as sns\n",
    "\n",
    "sns.set(color_codes=True)\n",
    "plt.hist(P_L, bins=88)\n",
    "plt.xlabel('Profit/Loss')\n",
    "plt.ylabel('Number of Realizations')\n",
    "plt.title('MC with Log Return and Normal Dist.')\n",
    "plt.show()"
   ]
  },
  {
   "cell_type": "code",
   "execution_count": 7,
   "metadata": {},
   "outputs": [
    {
     "data": {
      "text/plain": [
       "11179.136399142828"
      ]
     },
     "execution_count": 7,
     "metadata": {},
     "output_type": "execute_result"
    }
   ],
   "source": [
    "shortfall = [ loss for loss in P_L if loss < (-7129.85) ]\n",
    "expected_shortfall = - sum(shortfall)/len(shortfall)\n",
    "expected_shortfall"
   ]
  },
  {
   "cell_type": "markdown",
   "metadata": {},
   "source": [
    "# Question 2 Expected Shortfall with bivariate t Dist."
   ]
  },
  {
   "cell_type": "code",
   "execution_count": 8,
   "metadata": {},
   "outputs": [],
   "source": [
    "def multivariate_t_rvs(m, S, df=np.inf, n=1):\n",
    "    '''generate random variables of multivariate t distribution\n",
    "    Parameters\n",
    "    ----------\n",
    "    m : array_like\n",
    "        mean of random variable, length determines dimension of random variable\n",
    "    S : array_like\n",
    "        square array of covariance  matrix\n",
    "    df : int or float\n",
    "        degrees of freedom\n",
    "    n : int\n",
    "        number of observations, return random array will be (n, len(m))\n",
    "    Returns\n",
    "    -------\n",
    "    rvs : ndarray, (n, len(m))\n",
    "        each row is an independent draw of a multivariate t distributed\n",
    "        random variable\n",
    "    '''\n",
    "    m = np.asarray(m)\n",
    "    d = len(m)\n",
    "    if df == np.inf:\n",
    "        x = 1.\n",
    "    else:\n",
    "        x = np.random.chisquare(df, n)/df\n",
    "    z = np.random.multivariate_normal(np.zeros(d),S,(n,))\n",
    "    return m + z/np.sqrt(x)[:,None]   # same output format as random.multivariate_normal\n"
   ]
  },
  {
   "cell_type": "code",
   "execution_count": 9,
   "metadata": {},
   "outputs": [],
   "source": [
    "no_of_trails = 1000\n",
    "no_of_divisions = 100\n",
    "u_ABC = 0.0005\n",
    "u_DEF = 0.0004\n",
    "sd_ABC = 0.028\n",
    "sd_DEF = 0.023\n",
    "corr = 0.4\n",
    "\n",
    "P_L_t = []\n",
    "for i in range(no_of_trails):\n",
    "    mean = [u_ABC, \n",
    "            u_DEF]\n",
    "    cov = [[0.5*sd_ABC*sd_ABC,      0.5*sd_ABC*sd_DEF*corr],\n",
    "           [0.5*sd_ABC*sd_DEF*corr, 0.5*sd_DEF*sd_DEF]      ]\n",
    "    \n",
    "    rv = multivariate_t_rvs(mean, cov, 4, 1)\n",
    "    \n",
    "    log_S_ABC_percent_change = rv[0][0]\n",
    "    log_S_DEF_percent_change = rv[0][1]\n",
    "    \n",
    "    \n",
    "    S_ABC = 101.17 * math.exp(log_S_ABC_percent_change)\n",
    "    S_DEF = 148.97 * math.exp(log_S_DEF_percent_change)\n",
    "    \n",
    "    risk_free_rate = 0.01\n",
    "    strike_price = 100\n",
    "    initial_stock_price = S_ABC        \n",
    "    expiration_time = 0.08333 - (1/252) \n",
    "    volatility = 0.45\n",
    "\n",
    "    callstore = np.zeros((2*no_of_divisions+2, 2*no_of_divisions+2), dtype=np.double)\n",
    "    putstore = np.zeros((2*no_of_divisions+2, 2*no_of_divisions+2), dtype=np.double)\n",
    "    for i in range(2*no_of_divisions+2):\n",
    "        for j in range(2*no_of_divisions+2):\n",
    "            callstore[i][j] = -1.0\n",
    "            putstore[i][j] = -1.0       \n",
    "\n",
    "    up_factor = math.exp(volatility*math.sqrt(expiration_time/(no_of_divisions)))\n",
    "    R = math.exp(risk_free_rate*expiration_time/(no_of_divisions))\n",
    "    uptick_prob = (R - (1/up_factor))/(up_factor-(1/up_factor))\n",
    "    \n",
    "    ABC_Call = european_call_option(0, 0)\n",
    "    ABC_Put = european_put_option(0, 0)\n",
    "    \n",
    "\n",
    "    risk_free_rate = 0.01\n",
    "    strike_price = 150\n",
    "    initial_stock_price = S_DEF\n",
    "    expiration_time = 0.08333 - (1/252) \n",
    "    volatility = 0.37\n",
    "\n",
    "    callstore = np.zeros((2*no_of_divisions+2, 2*no_of_divisions+2), dtype=np.double)\n",
    "    putstore = np.zeros((2*no_of_divisions+2, 2*no_of_divisions+2), dtype=np.double)\n",
    "    for i in range(2*no_of_divisions+2):\n",
    "        for j in range(2*no_of_divisions+2):\n",
    "            callstore[i][j] = -1.0\n",
    "            putstore[i][j] = -1.0\n",
    "\n",
    "    up_factor = math.exp(volatility*math.sqrt(expiration_time/(no_of_divisions)))\n",
    "    R = math.exp(risk_free_rate*expiration_time/(no_of_divisions))\n",
    "    uptick_prob = (R - (1/up_factor))/(up_factor-(1/up_factor))\n",
    "\n",
    "    DEF_Call = european_call_option(0, 0)\n",
    "    DEF_Put = european_put_option(0, 0)\n",
    "\n",
    "    \n",
    "    value_of_portfolio = 60*100*(ABC_Call + ABC_Put) + 40*100*(DEF_Call + DEF_Put)\n",
    "    P_L_t.append(-(value_of_portfolio - 113765.38602832238))"
   ]
  },
  {
   "cell_type": "code",
   "execution_count": 10,
   "metadata": {},
   "outputs": [
    {
     "data": {
      "text/plain": [
       "7659.967008159751"
      ]
     },
     "execution_count": 10,
     "metadata": {},
     "output_type": "execute_result"
    }
   ],
   "source": [
    "five_percent_VaR = -np.quantile(P_L_t, 0.05)\n",
    "five_percent_VaR"
   ]
  },
  {
   "cell_type": "code",
   "execution_count": 11,
   "metadata": {},
   "outputs": [
    {
     "data": {
      "image/png": "[encoded data removed]",
      "text/plain": [
       "<Figure size 432x288 with 1 Axes>"
      ]
     },
     "metadata": {},
     "output_type": "display_data"
    }
   ],
   "source": [
    "sns.set(color_codes=True)\n",
    "plt.hist(P_L_t, bins=88)\n",
    "plt.xlabel('Profit/Loss')\n",
    "plt.ylabel('Number of Realizations')\n",
    "plt.title('MC with Log Return and T Dist.')\n",
    "plt.show()"
   ]
  },
  {
   "cell_type": "code",
   "execution_count": 12,
   "metadata": {},
   "outputs": [
    {
     "data": {
      "text/plain": [
       "17849.91254754127"
      ]
     },
     "execution_count": 12,
     "metadata": {},
     "output_type": "execute_result"
    }
   ],
   "source": [
    "shortfall = [ loss for loss in P_L_t if loss < (-7129.85) ]\n",
    "expected_shortfall = - sum(shortfall)/len(shortfall)\n",
    "expected_shortfall"
   ]
  }
 ],
 "metadata": {
  "kernelspec": {
   "display_name": "Python 3",
   "language": "python",
   "name": "python3"
  },
  "language_info": {
   "codemirror_mode": {
    "name": "ipython",
    "version": 3
   },
   "file_extension": ".py",
   "mimetype": "text/x-python",
   "name": "python",
   "nbconvert_exporter": "python",
   "pygments_lexer": "ipython3",
   "version": "3.7.3"
  }
 },
 "nbformat": 4,
 "nbformat_minor": 2
}
